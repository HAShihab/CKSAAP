{
 "cells": [
  {
   "cell_type": "code",
   "execution_count": 1,
   "metadata": {},
   "outputs": [],
   "source": [
    "%matplotlib inline\n",
    "\n",
    "import pandas\n",
    "import seaborn\n",
    "import numpy\n",
    "import re\n",
    "import itertools\n",
    "import time\n",
    "\n",
    "import matplotlib.pyplot\n",
    "\n",
    "from tqdm.auto import tqdm\n",
    "\n",
    "from sklearn.ensemble import RandomForestClassifier\n",
    "from sklearn.model_selection import StratifiedKFold, cross_val_score\n",
    "\n",
    "from Bio import SeqIO"
   ]
  },
  {
   "cell_type": "code",
   "execution_count": null,
   "metadata": {},
   "outputs": [],
   "source": []
  },
  {
   "cell_type": "code",
   "execution_count": null,
   "metadata": {},
   "outputs": [],
   "source": []
  },
  {
   "cell_type": "markdown",
   "metadata": {},
   "source": [
    "## Dataset"
   ]
  },
  {
   "cell_type": "markdown",
   "metadata": {},
   "source": [
    "#### SNVs"
   ]
  },
  {
   "cell_type": "code",
   "execution_count": 2,
   "metadata": {},
   "outputs": [
    {
     "data": {
      "text/html": [
       "<div>\n",
       "<style scoped>\n",
       "    .dataframe tbody tr th:only-of-type {\n",
       "        vertical-align: middle;\n",
       "    }\n",
       "\n",
       "    .dataframe tbody tr th {\n",
       "        vertical-align: top;\n",
       "    }\n",
       "\n",
       "    .dataframe thead th {\n",
       "        text-align: right;\n",
       "    }\n",
       "</style>\n",
       "<table border=\"1\" class=\"dataframe\">\n",
       "  <thead>\n",
       "    <tr style=\"text-align: right;\">\n",
       "      <th></th>\n",
       "      <th>id</th>\n",
       "      <th>ref</th>\n",
       "      <th>position</th>\n",
       "      <th>mutant</th>\n",
       "      <th>target</th>\n",
       "    </tr>\n",
       "  </thead>\n",
       "  <tbody>\n",
       "    <tr>\n",
       "      <th>0</th>\n",
       "      <td>P04217</td>\n",
       "      <td>H</td>\n",
       "      <td>52</td>\n",
       "      <td>R</td>\n",
       "      <td>POLYMORPHISM</td>\n",
       "    </tr>\n",
       "    <tr>\n",
       "      <th>1</th>\n",
       "      <td>P04217</td>\n",
       "      <td>H</td>\n",
       "      <td>395</td>\n",
       "      <td>R</td>\n",
       "      <td>POLYMORPHISM</td>\n",
       "    </tr>\n",
       "    <tr>\n",
       "      <th>2</th>\n",
       "      <td>Q9NQ94</td>\n",
       "      <td>V</td>\n",
       "      <td>555</td>\n",
       "      <td>M</td>\n",
       "      <td>POLYMORPHISM</td>\n",
       "    </tr>\n",
       "    <tr>\n",
       "      <th>3</th>\n",
       "      <td>Q9NQ94</td>\n",
       "      <td>A</td>\n",
       "      <td>558</td>\n",
       "      <td>S</td>\n",
       "      <td>POLYMORPHISM</td>\n",
       "    </tr>\n",
       "    <tr>\n",
       "      <th>4</th>\n",
       "      <td>P01023</td>\n",
       "      <td>R</td>\n",
       "      <td>704</td>\n",
       "      <td>H</td>\n",
       "      <td>POLYMORPHISM</td>\n",
       "    </tr>\n",
       "  </tbody>\n",
       "</table>\n",
       "</div>"
      ],
      "text/plain": [
       "       id ref  position mutant        target\n",
       "0  P04217   H        52      R  POLYMORPHISM\n",
       "1  P04217   H       395      R  POLYMORPHISM\n",
       "2  Q9NQ94   V       555      M  POLYMORPHISM\n",
       "3  Q9NQ94   A       558      S  POLYMORPHISM\n",
       "4  P01023   R       704      H  POLYMORPHISM"
      ]
     },
     "execution_count": 2,
     "metadata": {},
     "output_type": "execute_result"
    }
   ],
   "source": [
    "df = pandas.read_csv(\"./data/humsavar.txt\", sep=\"\\t\", header=0)\n",
    "df.head()"
   ]
  },
  {
   "cell_type": "code",
   "execution_count": 3,
   "metadata": {},
   "outputs": [
    {
     "data": {
      "text/plain": [
       "(78522, 5)"
      ]
     },
     "execution_count": 3,
     "metadata": {},
     "output_type": "execute_result"
    }
   ],
   "source": [
    "df.shape"
   ]
  },
  {
   "cell_type": "code",
   "execution_count": null,
   "metadata": {},
   "outputs": [],
   "source": []
  },
  {
   "cell_type": "code",
   "execution_count": 4,
   "metadata": {},
   "outputs": [
    {
     "data": {
      "text/plain": [
       "POLYMORPHISM    39448\n",
       "DISEASE         30877\n",
       "UNCLASSIFIED     8197\n",
       "Name: target, dtype: int64"
      ]
     },
     "execution_count": 4,
     "metadata": {},
     "output_type": "execute_result"
    }
   ],
   "source": [
    "df['target'].value_counts()"
   ]
  },
  {
   "cell_type": "code",
   "execution_count": null,
   "metadata": {},
   "outputs": [],
   "source": []
  },
  {
   "cell_type": "code",
   "execution_count": 5,
   "metadata": {},
   "outputs": [
    {
     "data": {
      "text/plain": [
       "(70325, 5)"
      ]
     },
     "execution_count": 5,
     "metadata": {},
     "output_type": "execute_result"
    }
   ],
   "source": [
    "df = df[df['target'].isin([ \"POLYMORPHISM\", \"DISEASE\" ])]\n",
    "df.shape"
   ]
  },
  {
   "cell_type": "code",
   "execution_count": 6,
   "metadata": {},
   "outputs": [
    {
     "data": {
      "text/plain": [
       "POLYMORPHISM    0.560938\n",
       "DISEASE         0.439062\n",
       "Name: target, dtype: float64"
      ]
     },
     "execution_count": 6,
     "metadata": {},
     "output_type": "execute_result"
    }
   ],
   "source": [
    "df['target'].value_counts(normalize=True)"
   ]
  },
  {
   "cell_type": "code",
   "execution_count": null,
   "metadata": {},
   "outputs": [],
   "source": []
  },
  {
   "cell_type": "code",
   "execution_count": 7,
   "metadata": {},
   "outputs": [
    {
     "data": {
      "text/plain": [
       "R    0.175276\n",
       "G    0.121093\n",
       "L    0.074716\n",
       "A    0.059494\n",
       "C    0.056612\n",
       "Name: ref, dtype: float64"
      ]
     },
     "execution_count": 7,
     "metadata": {},
     "output_type": "execute_result"
    }
   ],
   "source": [
    "df[df['target'] == \"DISEASE\"]['ref'].value_counts(normalize=True)[:5]"
   ]
  },
  {
   "cell_type": "code",
   "execution_count": 8,
   "metadata": {},
   "outputs": [
    {
     "data": {
      "text/plain": [
       "R    0.130374\n",
       "A    0.088141\n",
       "V    0.079522\n",
       "S    0.075035\n",
       "T    0.068521\n",
       "Name: ref, dtype: float64"
      ]
     },
     "execution_count": 8,
     "metadata": {},
     "output_type": "execute_result"
    }
   ],
   "source": [
    "df[df['target'] == \"POLYMORPHISM\"]['ref'].value_counts(normalize=True)[:5]"
   ]
  },
  {
   "cell_type": "code",
   "execution_count": 9,
   "metadata": {},
   "outputs": [
    {
     "data": {
      "image/png": "[encoded data removed]",
      "text/plain": [
       "<Figure size 576x288 with 1 Axes>"
      ]
     },
     "metadata": {
      "needs_background": "light"
     },
     "output_type": "display_data"
    }
   ],
   "source": [
    "p = df.groupby(\"target\")['ref'].value_counts(normalize=True).reset_index(name='freq')\n",
    "\n",
    "matplotlib.pyplot.figure(figsize=(8, 4))\n",
    "\n",
    "seaborn.barplot(x='ref', y= 'freq', data=p, hue='target', palette=[\"red\", \"green\"])\n",
    "\n",
    "matplotlib.pyplot.title('Amino Acid Composition')\n",
    "matplotlib.pyplot.legend(title='Class')\n",
    "matplotlib.pyplot.ylabel('Frequency', fontsize=12)\n",
    "matplotlib.pyplot.xlabel('Reference', fontsize=12)\n",
    "matplotlib.pyplot.show()"
   ]
  },
  {
   "cell_type": "code",
   "execution_count": 10,
   "metadata": {},
   "outputs": [
    {
     "data": {
      "image/png": "[encoded data removed]",
      "text/plain": [
       "<Figure size 432x576 with 1 Axes>"
      ]
     },
     "metadata": {
      "needs_background": "light"
     },
     "output_type": "display_data"
    }
   ],
   "source": [
    "# see: https://typewind.github.io/2017/09/29/radar-chart/\n",
    "\n",
    "p = df[df['target'] == \"DISEASE\"]['ref'].value_counts(normalize=True).sort_index()\n",
    "q = df[df['target'] == \"POLYMORPHISM\"]['ref'].value_counts(normalize=True).sort_index()\n",
    "\n",
    "assert list(p.index) == list(q.index)\n",
    "\n",
    "# show AAs on outer ring\n",
    "header = p.index\n",
    "\n",
    "# frequencies and theta for plotting\n",
    "p = list(p.values)\n",
    "q = list(q.values)\n",
    "theta = list(numpy.linspace(0, 2 * numpy.pi, len(header), endpoint=False)) # 2π radians = 360°\n",
    "\n",
    "# data/theta needs to be \"closed\"\n",
    "p.append(p[0])\n",
    "q.append(q[0])\n",
    "theta.append(theta[0])\n",
    "\n",
    "\n",
    "fig = matplotlib.pyplot.figure(figsize=(6, 8))\n",
    "ax = fig.add_subplot(111, polar=True)\n",
    "\n",
    "ax.plot(theta, p, '-', linewidth=2, color=\"red\")\n",
    "ax.fill(theta, p, alpha=0.5, color=\"red\")\n",
    "\n",
    "ax.plot(theta, q, '-', linewidth=2, color=\"green\")\n",
    "ax.fill(theta, q, alpha=0.5, color=\"green\")\n",
    "\n",
    "ax.set_thetagrids(numpy.array(theta) * 180/numpy.pi, header)\n",
    "\n",
    "ax.set_title(\"Amino Acid Composition\\n\")\n",
    "\n",
    "#ax.grid(False)\n",
    "#ax.get_yaxis().set_visible(False)\n",
    "#ax.yaxis.set_ticklabels([ ])\n",
    "#ax.set_rlim(0,0.2)\n",
    "matplotlib.pyplot.yticks(numpy.arange(0, 0.2, 0.05));"
   ]
  },
  {
   "cell_type": "code",
   "execution_count": null,
   "metadata": {},
   "outputs": [],
   "source": []
  },
  {
   "cell_type": "code",
   "execution_count": null,
   "metadata": {},
   "outputs": [],
   "source": []
  },
  {
   "cell_type": "markdown",
   "metadata": {},
   "source": [
    "#### Sequences"
   ]
  },
  {
   "cell_type": "code",
   "execution_count": 11,
   "metadata": {},
   "outputs": [],
   "source": [
    "UniProt = {}\n",
    "\n",
    "for record in SeqIO.parse(\"./data/humsavar.fa\", \"fasta\"):\n",
    "    _, record.id, _ = record.id.split(\"|\")\n",
    "    \n",
    "    if record.id in UniProt:\n",
    "        raise AssertionError(\"Duplicate Sequence\")\n",
    "        \n",
    "    UniProt[record.id] = str(record.seq)"
   ]
  },
  {
   "cell_type": "code",
   "execution_count": 12,
   "metadata": {},
   "outputs": [
    {
     "data": {
      "text/plain": [
       "12845"
      ]
     },
     "execution_count": 12,
     "metadata": {},
     "output_type": "execute_result"
    }
   ],
   "source": [
    "len(UniProt)"
   ]
  },
  {
   "cell_type": "code",
   "execution_count": 13,
   "metadata": {},
   "outputs": [
    {
     "data": {
      "text/plain": [
       "12841"
      ]
     },
     "execution_count": 13,
     "metadata": {},
     "output_type": "execute_result"
    }
   ],
   "source": [
    "len(set(UniProt.values())) # duplicate sequences?!"
   ]
  },
  {
   "cell_type": "code",
   "execution_count": null,
   "metadata": {},
   "outputs": [],
   "source": []
  },
  {
   "cell_type": "code",
   "execution_count": 14,
   "metadata": {},
   "outputs": [
    {
     "data": {
      "text/html": [
       "<div>\n",
       "<style scoped>\n",
       "    .dataframe tbody tr th:only-of-type {\n",
       "        vertical-align: middle;\n",
       "    }\n",
       "\n",
       "    .dataframe tbody tr th {\n",
       "        vertical-align: top;\n",
       "    }\n",
       "\n",
       "    .dataframe thead th {\n",
       "        text-align: right;\n",
       "    }\n",
       "</style>\n",
       "<table border=\"1\" class=\"dataframe\">\n",
       "  <thead>\n",
       "    <tr style=\"text-align: right;\">\n",
       "      <th></th>\n",
       "      <th>id</th>\n",
       "      <th>ref</th>\n",
       "      <th>position</th>\n",
       "      <th>mutant</th>\n",
       "      <th>target</th>\n",
       "      <th>window</th>\n",
       "    </tr>\n",
       "  </thead>\n",
       "  <tbody>\n",
       "    <tr>\n",
       "      <th>0</th>\n",
       "      <td>P04217</td>\n",
       "      <td>H</td>\n",
       "      <td>52</td>\n",
       "      <td>R</td>\n",
       "      <td>POLYMORPHISM</td>\n",
       "      <td>LANVTLTCQAHLETPDFQLFK</td>\n",
       "    </tr>\n",
       "    <tr>\n",
       "      <th>1</th>\n",
       "      <td>P04217</td>\n",
       "      <td>H</td>\n",
       "      <td>395</td>\n",
       "      <td>R</td>\n",
       "      <td>POLYMORPHISM</td>\n",
       "      <td>GSAPSERLELHVDGPPPRPQL</td>\n",
       "    </tr>\n",
       "    <tr>\n",
       "      <th>2</th>\n",
       "      <td>Q9NQ94</td>\n",
       "      <td>V</td>\n",
       "      <td>555</td>\n",
       "      <td>M</td>\n",
       "      <td>POLYMORPHISM</td>\n",
       "      <td>GYAVPNATAPVSAAQLKQAVT</td>\n",
       "    </tr>\n",
       "    <tr>\n",
       "      <th>3</th>\n",
       "      <td>Q9NQ94</td>\n",
       "      <td>A</td>\n",
       "      <td>558</td>\n",
       "      <td>S</td>\n",
       "      <td>POLYMORPHISM</td>\n",
       "      <td>VPNATAPVSAAQLKQAVTLGQ</td>\n",
       "    </tr>\n",
       "    <tr>\n",
       "      <th>4</th>\n",
       "      <td>P01023</td>\n",
       "      <td>R</td>\n",
       "      <td>704</td>\n",
       "      <td>H</td>\n",
       "      <td>POLYMORPHISM</td>\n",
       "      <td>QYEMHGPEGLRVGFYESDVMG</td>\n",
       "    </tr>\n",
       "  </tbody>\n",
       "</table>\n",
       "</div>"
      ],
      "text/plain": [
       "       id ref  position mutant        target                 window\n",
       "0  P04217   H        52      R  POLYMORPHISM  LANVTLTCQAHLETPDFQLFK\n",
       "1  P04217   H       395      R  POLYMORPHISM  GSAPSERLELHVDGPPPRPQL\n",
       "2  Q9NQ94   V       555      M  POLYMORPHISM  GYAVPNATAPVSAAQLKQAVT\n",
       "3  Q9NQ94   A       558      S  POLYMORPHISM  VPNATAPVSAAQLKQAVTLGQ\n",
       "4  P01023   R       704      H  POLYMORPHISM  QYEMHGPEGLRVGFYESDVMG"
      ]
     },
     "execution_count": 14,
     "metadata": {},
     "output_type": "execute_result"
    }
   ],
   "source": [
    "def fetch_window(id, position, window=10):\n",
    "    p = max(0, position - (window + 1))\n",
    "    q = min(position + window, len(str(UniProt[id])))\n",
    "    \n",
    "    return str(UniProt[id])[p:position - 1].rjust(window, '-') + \\\n",
    "           str(UniProt[id])[position - 1] + \\\n",
    "           str(UniProt[id])[position:q].ljust(window, \"-\")\n",
    "\n",
    "df['window'] = df.apply(lambda x: fetch_window(x['id'], x['position'], 10), axis=1)\n",
    "df.head()"
   ]
  },
  {
   "cell_type": "code",
   "execution_count": 15,
   "metadata": {},
   "outputs": [
    {
     "data": {
      "text/plain": [
       "{21}"
      ]
     },
     "execution_count": 15,
     "metadata": {},
     "output_type": "execute_result"
    }
   ],
   "source": [
    "set(df['window'].apply(len))"
   ]
  },
  {
   "cell_type": "code",
   "execution_count": null,
   "metadata": {},
   "outputs": [],
   "source": []
  },
  {
   "cell_type": "markdown",
   "metadata": {},
   "source": [
    "#### Composition of K-Spaced Amino Acid Pairs"
   ]
  },
  {
   "cell_type": "code",
   "execution_count": 16,
   "metadata": {},
   "outputs": [],
   "source": [
    "GAP = 7\n",
    "AA  = \"ACDEFGHIKLMNPQRSTVWY\"\n",
    "\n",
    "permutation = [ x[0] + (\".\" * k) + x[1] for k in range(0, GAP + 1) for x in itertools.product(AA, repeat=2) ]"
   ]
  },
  {
   "cell_type": "code",
   "execution_count": 17,
   "metadata": {},
   "outputs": [
    {
     "data": {
      "text/plain": [
       "3200"
      ]
     },
     "execution_count": 17,
     "metadata": {},
     "output_type": "execute_result"
    }
   ],
   "source": [
    "len(permutation)"
   ]
  },
  {
   "cell_type": "code",
   "execution_count": 18,
   "metadata": {},
   "outputs": [
    {
     "data": {
      "text/plain": [
       "3200"
      ]
     },
     "execution_count": 18,
     "metadata": {},
     "output_type": "execute_result"
    }
   ],
   "source": [
    "(len(AA) ** 2) *(GAP + 1)"
   ]
  },
  {
   "cell_type": "code",
   "execution_count": null,
   "metadata": {},
   "outputs": [],
   "source": []
  },
  {
   "cell_type": "code",
   "execution_count": 19,
   "metadata": {},
   "outputs": [],
   "source": [
    "def Encoding(seq, normalize=True):\n",
    "    X = []\n",
    "\n",
    "    for i in range(0, len(permutation), len(AA) ** 2): # batch processing so we can normalize by gap\n",
    "        freq = [ len(re.findall(\"(?={0})\".format(p), seq)) for p in permutation[i:i + len(AA) ** 2] ]\n",
    "        \n",
    "        if normalize:\n",
    "            freq = numpy.array(freq) / sum(freq)\n",
    "            \n",
    "        X.extend(freq)\n",
    "\n",
    "    return X\n",
    "    #return [ len(re.findall(\"(?={0})\".format(p), seq)) for p in permutation ]"
   ]
  },
  {
   "cell_type": "code",
   "execution_count": 20,
   "metadata": {},
   "outputs": [
    {
     "data": {
      "text/plain": [
       "[('AA', 1),\n",
       " ('AC', 2),\n",
       " ('CA', 2),\n",
       " ('A.A', 2),\n",
       " ('C.C', 2),\n",
       " ('A..A', 1),\n",
       " ('A..C', 3),\n",
       " ('C..A', 1),\n",
       " ('A...A', 2),\n",
       " ('A...C', 1),\n",
       " ('C...C', 1),\n",
       " ('A....A', 1),\n",
       " ('A....C', 2),\n",
       " ('C....A', 1),\n",
       " ('A.....A', 1),\n",
       " ('A.....C', 1),\n",
       " ('A......C', 1),\n",
       " ('A.......A', 1),\n",
       " ('A.......C', 1)]"
      ]
     },
     "execution_count": 20,
     "metadata": {},
     "output_type": "execute_result"
    }
   ],
   "source": [
    "[ x for x in zip(permutation, Encoding(\"AABACACBCA\", False)) if x[1] > 0 ]"
   ]
  },
  {
   "cell_type": "code",
   "execution_count": null,
   "metadata": {},
   "outputs": [],
   "source": []
  },
  {
   "cell_type": "code",
   "execution_count": 21,
   "metadata": {},
   "outputs": [
    {
     "data": {
      "application/vnd.jupyter.widget-view+json": {
       "model_id": "0622fa64958e47e5aa27f6c865504728",
       "version_major": 2,
       "version_minor": 0
      },
      "text/plain": [
       "HBox(children=(FloatProgress(value=0.0, max=70325.0), HTML(value='')))"
      ]
     },
     "metadata": {},
     "output_type": "display_data"
    },
    {
     "name": "stdout",
     "output_type": "stream",
     "text": [
      "\n"
     ]
    },
    {
     "data": {
      "text/html": [
       "<div>\n",
       "<style scoped>\n",
       "    .dataframe tbody tr th:only-of-type {\n",
       "        vertical-align: middle;\n",
       "    }\n",
       "\n",
       "    .dataframe tbody tr th {\n",
       "        vertical-align: top;\n",
       "    }\n",
       "\n",
       "    .dataframe thead th {\n",
       "        text-align: right;\n",
       "    }\n",
       "</style>\n",
       "<table border=\"1\" class=\"dataframe\">\n",
       "  <thead>\n",
       "    <tr style=\"text-align: right;\">\n",
       "      <th></th>\n",
       "      <th>id</th>\n",
       "      <th>ref</th>\n",
       "      <th>position</th>\n",
       "      <th>mutant</th>\n",
       "      <th>target</th>\n",
       "      <th>window</th>\n",
       "      <th>CKSAAP</th>\n",
       "    </tr>\n",
       "  </thead>\n",
       "  <tbody>\n",
       "    <tr>\n",
       "      <th>0</th>\n",
       "      <td>P04217</td>\n",
       "      <td>H</td>\n",
       "      <td>52</td>\n",
       "      <td>R</td>\n",
       "      <td>POLYMORPHISM</td>\n",
       "      <td>LANVTLTCQAHLETPDFQLFK</td>\n",
       "      <td>[0.0, 0.0, 0.0, 0.0, 0.0, 0.0, 0.05, 0.0, 0.0,...</td>\n",
       "    </tr>\n",
       "    <tr>\n",
       "      <th>1</th>\n",
       "      <td>P04217</td>\n",
       "      <td>H</td>\n",
       "      <td>395</td>\n",
       "      <td>R</td>\n",
       "      <td>POLYMORPHISM</td>\n",
       "      <td>GSAPSERLELHVDGPPPRPQL</td>\n",
       "      <td>[0.0, 0.0, 0.0, 0.0, 0.0, 0.0, 0.0, 0.0, 0.0, ...</td>\n",
       "    </tr>\n",
       "    <tr>\n",
       "      <th>2</th>\n",
       "      <td>Q9NQ94</td>\n",
       "      <td>V</td>\n",
       "      <td>555</td>\n",
       "      <td>M</td>\n",
       "      <td>POLYMORPHISM</td>\n",
       "      <td>GYAVPNATAPVSAAQLKQAVT</td>\n",
       "      <td>[0.05, 0.0, 0.0, 0.0, 0.0, 0.0, 0.0, 0.0, 0.0,...</td>\n",
       "    </tr>\n",
       "    <tr>\n",
       "      <th>3</th>\n",
       "      <td>Q9NQ94</td>\n",
       "      <td>A</td>\n",
       "      <td>558</td>\n",
       "      <td>S</td>\n",
       "      <td>POLYMORPHISM</td>\n",
       "      <td>VPNATAPVSAAQLKQAVTLGQ</td>\n",
       "      <td>[0.05, 0.0, 0.0, 0.0, 0.0, 0.0, 0.0, 0.0, 0.0,...</td>\n",
       "    </tr>\n",
       "    <tr>\n",
       "      <th>4</th>\n",
       "      <td>P01023</td>\n",
       "      <td>R</td>\n",
       "      <td>704</td>\n",
       "      <td>H</td>\n",
       "      <td>POLYMORPHISM</td>\n",
       "      <td>QYEMHGPEGLRVGFYESDVMG</td>\n",
       "      <td>[0.0, 0.0, 0.0, 0.0, 0.0, 0.0, 0.0, 0.0, 0.0, ...</td>\n",
       "    </tr>\n",
       "  </tbody>\n",
       "</table>\n",
       "</div>"
      ],
      "text/plain": [
       "       id ref  position mutant        target                 window  \\\n",
       "0  P04217   H        52      R  POLYMORPHISM  LANVTLTCQAHLETPDFQLFK   \n",
       "1  P04217   H       395      R  POLYMORPHISM  GSAPSERLELHVDGPPPRPQL   \n",
       "2  Q9NQ94   V       555      M  POLYMORPHISM  GYAVPNATAPVSAAQLKQAVT   \n",
       "3  Q9NQ94   A       558      S  POLYMORPHISM  VPNATAPVSAAQLKQAVTLGQ   \n",
       "4  P01023   R       704      H  POLYMORPHISM  QYEMHGPEGLRVGFYESDVMG   \n",
       "\n",
       "                                              CKSAAP  \n",
       "0  [0.0, 0.0, 0.0, 0.0, 0.0, 0.0, 0.05, 0.0, 0.0,...  \n",
       "1  [0.0, 0.0, 0.0, 0.0, 0.0, 0.0, 0.0, 0.0, 0.0, ...  \n",
       "2  [0.05, 0.0, 0.0, 0.0, 0.0, 0.0, 0.0, 0.0, 0.0,...  \n",
       "3  [0.05, 0.0, 0.0, 0.0, 0.0, 0.0, 0.0, 0.0, 0.0,...  \n",
       "4  [0.0, 0.0, 0.0, 0.0, 0.0, 0.0, 0.0, 0.0, 0.0, ...  "
      ]
     },
     "execution_count": 21,
     "metadata": {},
     "output_type": "execute_result"
    }
   ],
   "source": [
    "tqdm.pandas() # now we can use 'progress_apply' instead of 'apply' to see a progress bar!\n",
    "\n",
    "df['CKSAAP'] = df.progress_apply(lambda x: Encoding(x['window']), axis=1)\n",
    "df.head()"
   ]
  },
  {
   "cell_type": "code",
   "execution_count": 22,
   "metadata": {},
   "outputs": [
    {
     "data": {
      "text/plain": [
       "True"
      ]
     },
     "execution_count": 22,
     "metadata": {},
     "output_type": "execute_result"
    }
   ],
   "source": [
    "# sanity check ...\n",
    "\n",
    "p = df.iloc[0]\n",
    "\n",
    "Encoding(p['window']) == p['CKSAAP']"
   ]
  },
  {
   "cell_type": "code",
   "execution_count": null,
   "metadata": {},
   "outputs": [],
   "source": []
  },
  {
   "cell_type": "code",
   "execution_count": null,
   "metadata": {},
   "outputs": [],
   "source": []
  },
  {
   "cell_type": "markdown",
   "metadata": {},
   "source": [
    "## Models"
   ]
  },
  {
   "cell_type": "markdown",
   "metadata": {},
   "source": [
    "#### Random Forest"
   ]
  },
  {
   "cell_type": "code",
   "execution_count": 23,
   "metadata": {},
   "outputs": [
    {
     "data": {
      "text/html": [
       "<div>\n",
       "<style scoped>\n",
       "    .dataframe tbody tr th:only-of-type {\n",
       "        vertical-align: middle;\n",
       "    }\n",
       "\n",
       "    .dataframe tbody tr th {\n",
       "        vertical-align: top;\n",
       "    }\n",
       "\n",
       "    .dataframe thead th {\n",
       "        text-align: right;\n",
       "    }\n",
       "</style>\n",
       "<table border=\"1\" class=\"dataframe\">\n",
       "  <thead>\n",
       "    <tr style=\"text-align: right;\">\n",
       "      <th></th>\n",
       "      <th>AA</th>\n",
       "      <th>AC</th>\n",
       "      <th>AD</th>\n",
       "      <th>AE</th>\n",
       "      <th>AF</th>\n",
       "      <th>AG</th>\n",
       "      <th>AH</th>\n",
       "      <th>AI</th>\n",
       "      <th>AK</th>\n",
       "      <th>AL</th>\n",
       "      <th>...</th>\n",
       "      <th>Y.......M</th>\n",
       "      <th>Y.......N</th>\n",
       "      <th>Y.......P</th>\n",
       "      <th>Y.......Q</th>\n",
       "      <th>Y.......R</th>\n",
       "      <th>Y.......S</th>\n",
       "      <th>Y.......T</th>\n",
       "      <th>Y.......V</th>\n",
       "      <th>Y.......W</th>\n",
       "      <th>Y.......Y</th>\n",
       "    </tr>\n",
       "  </thead>\n",
       "  <tbody>\n",
       "    <tr>\n",
       "      <th>0</th>\n",
       "      <td>0.00</td>\n",
       "      <td>0.0</td>\n",
       "      <td>0.0</td>\n",
       "      <td>0.0</td>\n",
       "      <td>0.0</td>\n",
       "      <td>0.0</td>\n",
       "      <td>0.05</td>\n",
       "      <td>0.0</td>\n",
       "      <td>0.0</td>\n",
       "      <td>0.0</td>\n",
       "      <td>...</td>\n",
       "      <td>0.0</td>\n",
       "      <td>0.0</td>\n",
       "      <td>0.000000</td>\n",
       "      <td>0.0</td>\n",
       "      <td>0.0</td>\n",
       "      <td>0.0</td>\n",
       "      <td>0.0</td>\n",
       "      <td>0.0</td>\n",
       "      <td>0.0</td>\n",
       "      <td>0.0</td>\n",
       "    </tr>\n",
       "    <tr>\n",
       "      <th>1</th>\n",
       "      <td>0.00</td>\n",
       "      <td>0.0</td>\n",
       "      <td>0.0</td>\n",
       "      <td>0.0</td>\n",
       "      <td>0.0</td>\n",
       "      <td>0.0</td>\n",
       "      <td>0.00</td>\n",
       "      <td>0.0</td>\n",
       "      <td>0.0</td>\n",
       "      <td>0.0</td>\n",
       "      <td>...</td>\n",
       "      <td>0.0</td>\n",
       "      <td>0.0</td>\n",
       "      <td>0.000000</td>\n",
       "      <td>0.0</td>\n",
       "      <td>0.0</td>\n",
       "      <td>0.0</td>\n",
       "      <td>0.0</td>\n",
       "      <td>0.0</td>\n",
       "      <td>0.0</td>\n",
       "      <td>0.0</td>\n",
       "    </tr>\n",
       "    <tr>\n",
       "      <th>2</th>\n",
       "      <td>0.05</td>\n",
       "      <td>0.0</td>\n",
       "      <td>0.0</td>\n",
       "      <td>0.0</td>\n",
       "      <td>0.0</td>\n",
       "      <td>0.0</td>\n",
       "      <td>0.00</td>\n",
       "      <td>0.0</td>\n",
       "      <td>0.0</td>\n",
       "      <td>0.0</td>\n",
       "      <td>...</td>\n",
       "      <td>0.0</td>\n",
       "      <td>0.0</td>\n",
       "      <td>0.076923</td>\n",
       "      <td>0.0</td>\n",
       "      <td>0.0</td>\n",
       "      <td>0.0</td>\n",
       "      <td>0.0</td>\n",
       "      <td>0.0</td>\n",
       "      <td>0.0</td>\n",
       "      <td>0.0</td>\n",
       "    </tr>\n",
       "    <tr>\n",
       "      <th>3</th>\n",
       "      <td>0.05</td>\n",
       "      <td>0.0</td>\n",
       "      <td>0.0</td>\n",
       "      <td>0.0</td>\n",
       "      <td>0.0</td>\n",
       "      <td>0.0</td>\n",
       "      <td>0.00</td>\n",
       "      <td>0.0</td>\n",
       "      <td>0.0</td>\n",
       "      <td>0.0</td>\n",
       "      <td>...</td>\n",
       "      <td>0.0</td>\n",
       "      <td>0.0</td>\n",
       "      <td>0.000000</td>\n",
       "      <td>0.0</td>\n",
       "      <td>0.0</td>\n",
       "      <td>0.0</td>\n",
       "      <td>0.0</td>\n",
       "      <td>0.0</td>\n",
       "      <td>0.0</td>\n",
       "      <td>0.0</td>\n",
       "    </tr>\n",
       "    <tr>\n",
       "      <th>4</th>\n",
       "      <td>0.00</td>\n",
       "      <td>0.0</td>\n",
       "      <td>0.0</td>\n",
       "      <td>0.0</td>\n",
       "      <td>0.0</td>\n",
       "      <td>0.0</td>\n",
       "      <td>0.00</td>\n",
       "      <td>0.0</td>\n",
       "      <td>0.0</td>\n",
       "      <td>0.0</td>\n",
       "      <td>...</td>\n",
       "      <td>0.0</td>\n",
       "      <td>0.0</td>\n",
       "      <td>0.000000</td>\n",
       "      <td>0.0</td>\n",
       "      <td>0.0</td>\n",
       "      <td>0.0</td>\n",
       "      <td>0.0</td>\n",
       "      <td>0.0</td>\n",
       "      <td>0.0</td>\n",
       "      <td>0.0</td>\n",
       "    </tr>\n",
       "  </tbody>\n",
       "</table>\n",
       "<p>5 rows × 3200 columns</p>\n",
       "</div>"
      ],
      "text/plain": [
       "     AA   AC   AD   AE   AF   AG    AH   AI   AK   AL  ...  Y.......M  \\\n",
       "0  0.00  0.0  0.0  0.0  0.0  0.0  0.05  0.0  0.0  0.0  ...        0.0   \n",
       "1  0.00  0.0  0.0  0.0  0.0  0.0  0.00  0.0  0.0  0.0  ...        0.0   \n",
       "2  0.05  0.0  0.0  0.0  0.0  0.0  0.00  0.0  0.0  0.0  ...        0.0   \n",
       "3  0.05  0.0  0.0  0.0  0.0  0.0  0.00  0.0  0.0  0.0  ...        0.0   \n",
       "4  0.00  0.0  0.0  0.0  0.0  0.0  0.00  0.0  0.0  0.0  ...        0.0   \n",
       "\n",
       "   Y.......N  Y.......P  Y.......Q  Y.......R  Y.......S  Y.......T  \\\n",
       "0        0.0   0.000000        0.0        0.0        0.0        0.0   \n",
       "1        0.0   0.000000        0.0        0.0        0.0        0.0   \n",
       "2        0.0   0.076923        0.0        0.0        0.0        0.0   \n",
       "3        0.0   0.000000        0.0        0.0        0.0        0.0   \n",
       "4        0.0   0.000000        0.0        0.0        0.0        0.0   \n",
       "\n",
       "   Y.......V  Y.......W  Y.......Y  \n",
       "0        0.0        0.0        0.0  \n",
       "1        0.0        0.0        0.0  \n",
       "2        0.0        0.0        0.0  \n",
       "3        0.0        0.0        0.0  \n",
       "4        0.0        0.0        0.0  \n",
       "\n",
       "[5 rows x 3200 columns]"
      ]
     },
     "execution_count": 23,
     "metadata": {},
     "output_type": "execute_result"
    }
   ],
   "source": [
    "X = pandas.DataFrame(list(df['CKSAAP']), columns=permutation)\n",
    "X.head()"
   ]
  },
  {
   "cell_type": "code",
   "execution_count": 24,
   "metadata": {},
   "outputs": [
    {
     "data": {
      "text/plain": [
       "(70325, 3200)"
      ]
     },
     "execution_count": 24,
     "metadata": {},
     "output_type": "execute_result"
    }
   ],
   "source": [
    "X.shape"
   ]
  },
  {
   "cell_type": "code",
   "execution_count": 25,
   "metadata": {},
   "outputs": [
    {
     "data": {
      "text/plain": [
       "(70325, 3200)"
      ]
     },
     "execution_count": 25,
     "metadata": {},
     "output_type": "execute_result"
    }
   ],
   "source": [
    "# remove features with zero variance\n",
    "\n",
    "X = X.loc[:, X.apply(pandas.Series.nunique) != 1]\n",
    "X.shape"
   ]
  },
  {
   "cell_type": "code",
   "execution_count": null,
   "metadata": {},
   "outputs": [],
   "source": []
  },
  {
   "cell_type": "code",
   "execution_count": 26,
   "metadata": {},
   "outputs": [],
   "source": [
    "Y = list(numpy.where(df['target'] == \"DISEASE\", 1, 0))"
   ]
  },
  {
   "cell_type": "code",
   "execution_count": 27,
   "metadata": {},
   "outputs": [
    {
     "name": "stdout",
     "output_type": "stream",
     "text": [
      "max_depth=5, precision=0.60\n",
      "max_depth=10, precision=0.66\n",
      "max_depth=15, precision=0.72\n",
      "max_depth=20, precision=0.77\n",
      "max_depth=25, precision=0.80\n",
      "max_depth=30, precision=0.82\n",
      "max_depth=35, precision=0.83\n",
      "max_depth=40, precision=0.84\n",
      "max_depth=45, precision=0.84\n",
      "max_depth=50, precision=0.84\n",
      "max_depth=55, precision=0.85\n",
      "max_depth=60, precision=0.85\n",
      "max_depth=65, precision=0.85\n",
      "max_depth=70, precision=0.85\n",
      "max_depth=75, precision=0.85\n"
     ]
    }
   ],
   "source": [
    "skf = StratifiedKFold(10, shuffle=True, random_state=42)\n",
    "\n",
    "for d in range(5, 80, 5):   \n",
    "    model = RandomForestClassifier(n_estimators=100, max_depth=d, random_state=42)\n",
    "    perf = cross_val_score(model, X, numpy.array(Y), scoring=\"average_precision\", cv=skf, n_jobs=-1, verbose=0)\n",
    "    \n",
    "    print(\"max_depth={0}, precision={1:.2f}\".format(d, numpy.mean(perf)))\n",
    "    \n",
    "    time.sleep(5)"
   ]
  },
  {
   "cell_type": "code",
   "execution_count": null,
   "metadata": {},
   "outputs": [],
   "source": []
  },
  {
   "cell_type": "code",
   "execution_count": 28,
   "metadata": {},
   "outputs": [
    {
     "data": {
      "text/plain": [
       "RandomForestClassifier(bootstrap=True, class_weight=None, criterion='gini',\n",
       "                       max_depth=55, max_features='auto', max_leaf_nodes=None,\n",
       "                       min_impurity_decrease=0.0, min_impurity_split=None,\n",
       "                       min_samples_leaf=1, min_samples_split=2,\n",
       "                       min_weight_fraction_leaf=0.0, n_estimators=100,\n",
       "                       n_jobs=None, oob_score=False, random_state=42, verbose=0,\n",
       "                       warm_start=False)"
      ]
     },
     "execution_count": 28,
     "metadata": {},
     "output_type": "execute_result"
    }
   ],
   "source": [
    "model = RandomForestClassifier(n_estimators=100, max_depth=55, random_state=42) # precision=0.85\n",
    "model.fit(X, numpy.array(Y))"
   ]
  },
  {
   "cell_type": "code",
   "execution_count": 29,
   "metadata": {},
   "outputs": [
    {
     "data": {
      "text/html": [
       "<div>\n",
       "<style scoped>\n",
       "    .dataframe tbody tr th:only-of-type {\n",
       "        vertical-align: middle;\n",
       "    }\n",
       "\n",
       "    .dataframe tbody tr th {\n",
       "        vertical-align: top;\n",
       "    }\n",
       "\n",
       "    .dataframe thead th {\n",
       "        text-align: right;\n",
       "    }\n",
       "</style>\n",
       "<table border=\"1\" class=\"dataframe\">\n",
       "  <thead>\n",
       "    <tr style=\"text-align: right;\">\n",
       "      <th></th>\n",
       "      <th>Importance</th>\n",
       "    </tr>\n",
       "  </thead>\n",
       "  <tbody>\n",
       "    <tr>\n",
       "      <th>S..S</th>\n",
       "      <td>0.002354</td>\n",
       "    </tr>\n",
       "    <tr>\n",
       "      <th>G..G</th>\n",
       "      <td>0.002216</td>\n",
       "    </tr>\n",
       "    <tr>\n",
       "      <th>G.....G</th>\n",
       "      <td>0.002125</td>\n",
       "    </tr>\n",
       "    <tr>\n",
       "      <th>IG</th>\n",
       "      <td>0.002103</td>\n",
       "    </tr>\n",
       "    <tr>\n",
       "      <th>S.....P</th>\n",
       "      <td>0.001556</td>\n",
       "    </tr>\n",
       "    <tr>\n",
       "      <th>S.S</th>\n",
       "      <td>0.001546</td>\n",
       "    </tr>\n",
       "    <tr>\n",
       "      <th>SS</th>\n",
       "      <td>0.001543</td>\n",
       "    </tr>\n",
       "    <tr>\n",
       "      <th>S...S</th>\n",
       "      <td>0.001479</td>\n",
       "    </tr>\n",
       "    <tr>\n",
       "      <th>P...P</th>\n",
       "      <td>0.001432</td>\n",
       "    </tr>\n",
       "    <tr>\n",
       "      <th>IA</th>\n",
       "      <td>0.001314</td>\n",
       "    </tr>\n",
       "    <tr>\n",
       "      <th>PG</th>\n",
       "      <td>0.001313</td>\n",
       "    </tr>\n",
       "    <tr>\n",
       "      <th>P..S</th>\n",
       "      <td>0.001296</td>\n",
       "    </tr>\n",
       "    <tr>\n",
       "      <th>SP</th>\n",
       "      <td>0.001286</td>\n",
       "    </tr>\n",
       "    <tr>\n",
       "      <th>P.P</th>\n",
       "      <td>0.001250</td>\n",
       "    </tr>\n",
       "    <tr>\n",
       "      <th>S.P</th>\n",
       "      <td>0.001154</td>\n",
       "    </tr>\n",
       "    <tr>\n",
       "      <th>P...E</th>\n",
       "      <td>0.001128</td>\n",
       "    </tr>\n",
       "    <tr>\n",
       "      <th>P..P</th>\n",
       "      <td>0.001108</td>\n",
       "    </tr>\n",
       "    <tr>\n",
       "      <th>S.......S</th>\n",
       "      <td>0.001057</td>\n",
       "    </tr>\n",
       "    <tr>\n",
       "      <th>I...G</th>\n",
       "      <td>0.001047</td>\n",
       "    </tr>\n",
       "    <tr>\n",
       "      <th>P...G</th>\n",
       "      <td>0.001045</td>\n",
       "    </tr>\n",
       "  </tbody>\n",
       "</table>\n",
       "</div>"
      ],
      "text/plain": [
       "           Importance\n",
       "S..S         0.002354\n",
       "G..G         0.002216\n",
       "G.....G      0.002125\n",
       "IG           0.002103\n",
       "S.....P      0.001556\n",
       "S.S          0.001546\n",
       "SS           0.001543\n",
       "S...S        0.001479\n",
       "P...P        0.001432\n",
       "IA           0.001314\n",
       "PG           0.001313\n",
       "P..S         0.001296\n",
       "SP           0.001286\n",
       "P.P          0.001250\n",
       "S.P          0.001154\n",
       "P...E        0.001128\n",
       "P..P         0.001108\n",
       "S.......S    0.001057\n",
       "I...G        0.001047\n",
       "P...G        0.001045"
      ]
     },
     "execution_count": 29,
     "metadata": {},
     "output_type": "execute_result"
    }
   ],
   "source": [
    "rank = pandas.DataFrame(model.feature_importances_, index=X.columns, columns=[ 'Importance' ])\n",
    "rank.sort_values(by='Importance', ascending=False, inplace=True)\n",
    "\n",
    "rank.head(20)"
   ]
  },
  {
   "cell_type": "code",
   "execution_count": null,
   "metadata": {},
   "outputs": [],
   "source": []
  },
  {
   "cell_type": "code",
   "execution_count": null,
   "metadata": {},
   "outputs": [],
   "source": []
  },
  {
   "cell_type": "code",
   "execution_count": null,
   "metadata": {},
   "outputs": [],
   "source": []
  }
 ],
 "metadata": {
  "kernelspec": {
   "display_name": "Python 3",
   "language": "python",
   "name": "python3"
  },
  "language_info": {
   "codemirror_mode": {
    "name": "ipython",
    "version": 3
   },
   "file_extension": ".py",
   "mimetype": "text/x-python",
   "name": "python",
   "nbconvert_exporter": "python",
   "pygments_lexer": "ipython3",
   "version": "3.7.1"
  }
 },
 "nbformat": 4,
 "nbformat_minor": 4
}
