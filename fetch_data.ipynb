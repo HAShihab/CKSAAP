{
 "cells": [
  {
   "cell_type": "code",
   "execution_count": 1,
   "metadata": {},
   "outputs": [],
   "source": [
    "import os\n",
    "import wget\n",
    "import re\n",
    "import pickle\n",
    "\n",
    "import pandas\n",
    "\n",
    "import tqdm\n",
    "import urllib.request\n",
    "\n",
    "from Bio.PDB.Polypeptide import three_to_one\n",
    "from Bio import SeqIO"
   ]
  },
  {
   "cell_type": "code",
   "execution_count": null,
   "metadata": {},
   "outputs": [],
   "source": []
  },
  {
   "cell_type": "code",
   "execution_count": null,
   "metadata": {},
   "outputs": [],
   "source": []
  },
  {
   "cell_type": "markdown",
   "metadata": {},
   "source": [
    "#### Fetch Variants"
   ]
  },
  {
   "cell_type": "code",
   "execution_count": 2,
   "metadata": {},
   "outputs": [
    {
     "data": {
      "text/plain": [
       "'./data/humsavar.txt'"
      ]
     },
     "execution_count": 2,
     "metadata": {},
     "output_type": "execute_result"
    }
   ],
   "source": [
    "os.remove(\"./data/humsavar.txt\")\n",
    "\n",
    "wget.download(\"ftp://ftp.uniprot.org/pub/databases/uniprot/current_release/knowledgebase/variants/humsavar.txt\", \"./data/humsavar.txt\")"
   ]
  },
  {
   "cell_type": "code",
   "execution_count": 3,
   "metadata": {},
   "outputs": [
    {
     "data": {
      "text/plain": [
       "['P04217', 'H', '52', 'R', 'POLYMORPHISM']"
      ]
     },
     "execution_count": 3,
     "metadata": {},
     "output_type": "execute_result"
    }
   ],
   "source": [
    "data = []\n",
    "\n",
    "with open(\"./data/humsavar.txt\", \"r\") as handle:\n",
    "    # skip header\n",
    "    for record in handle:\n",
    "        if record.startswith(\"_\"):\n",
    "            break\n",
    "    \n",
    "    for record in handle:\n",
    "        # reached EOF\n",
    "        if len(record) == 1:\n",
    "            break\n",
    "        \n",
    "        # process data\n",
    "        record = re.sub(\" +\", \" \", record[10:]).split(\" \")\n",
    "        \n",
    "        try:\n",
    "            var = record[2][2:].upper()\n",
    "            \n",
    "            data.append([ record[0], three_to_one(var[:3]), var[3:-3], three_to_one(var[-3:]), record[3].upper() ])\n",
    "        except:\n",
    "            # unknown peptide (SER)\n",
    "            pass\n",
    "\n",
    "data[0]"
   ]
  },
  {
   "cell_type": "code",
   "execution_count": 4,
   "metadata": {},
   "outputs": [],
   "source": [
    "with open(\"./data/humsavar.txt\", \"w\") as handle:\n",
    "    handle.write(\"\\t\".join([ \"id\", \"ref\", \"position\", \"mutant\", \"target\" ]) + \"\\n\")\n",
    "    \n",
    "    for record in data:\n",
    "        handle.write(\"\\t\".join(record) + \"\\n\")"
   ]
  },
  {
   "cell_type": "code",
   "execution_count": null,
   "metadata": {},
   "outputs": [],
   "source": []
  },
  {
   "cell_type": "code",
   "execution_count": null,
   "metadata": {},
   "outputs": [],
   "source": []
  },
  {
   "cell_type": "markdown",
   "metadata": {},
   "source": [
    "#### Fetch Protein Sequences"
   ]
  },
  {
   "cell_type": "code",
   "execution_count": 5,
   "metadata": {},
   "outputs": [
    {
     "data": {
      "text/html": [
       "<div>\n",
       "<style scoped>\n",
       "    .dataframe tbody tr th:only-of-type {\n",
       "        vertical-align: middle;\n",
       "    }\n",
       "\n",
       "    .dataframe tbody tr th {\n",
       "        vertical-align: top;\n",
       "    }\n",
       "\n",
       "    .dataframe thead th {\n",
       "        text-align: right;\n",
       "    }\n",
       "</style>\n",
       "<table border=\"1\" class=\"dataframe\">\n",
       "  <thead>\n",
       "    <tr style=\"text-align: right;\">\n",
       "      <th></th>\n",
       "      <th>id</th>\n",
       "      <th>ref</th>\n",
       "      <th>position</th>\n",
       "      <th>mutant</th>\n",
       "      <th>target</th>\n",
       "    </tr>\n",
       "  </thead>\n",
       "  <tbody>\n",
       "    <tr>\n",
       "      <th>0</th>\n",
       "      <td>P04217</td>\n",
       "      <td>H</td>\n",
       "      <td>52</td>\n",
       "      <td>R</td>\n",
       "      <td>POLYMORPHISM</td>\n",
       "    </tr>\n",
       "    <tr>\n",
       "      <th>1</th>\n",
       "      <td>P04217</td>\n",
       "      <td>H</td>\n",
       "      <td>395</td>\n",
       "      <td>R</td>\n",
       "      <td>POLYMORPHISM</td>\n",
       "    </tr>\n",
       "    <tr>\n",
       "      <th>2</th>\n",
       "      <td>Q9NQ94</td>\n",
       "      <td>V</td>\n",
       "      <td>555</td>\n",
       "      <td>M</td>\n",
       "      <td>POLYMORPHISM</td>\n",
       "    </tr>\n",
       "    <tr>\n",
       "      <th>3</th>\n",
       "      <td>Q9NQ94</td>\n",
       "      <td>A</td>\n",
       "      <td>558</td>\n",
       "      <td>S</td>\n",
       "      <td>POLYMORPHISM</td>\n",
       "    </tr>\n",
       "    <tr>\n",
       "      <th>4</th>\n",
       "      <td>P01023</td>\n",
       "      <td>R</td>\n",
       "      <td>704</td>\n",
       "      <td>H</td>\n",
       "      <td>POLYMORPHISM</td>\n",
       "    </tr>\n",
       "  </tbody>\n",
       "</table>\n",
       "</div>"
      ],
      "text/plain": [
       "       id ref  position mutant        target\n",
       "0  P04217   H        52      R  POLYMORPHISM\n",
       "1  P04217   H       395      R  POLYMORPHISM\n",
       "2  Q9NQ94   V       555      M  POLYMORPHISM\n",
       "3  Q9NQ94   A       558      S  POLYMORPHISM\n",
       "4  P01023   R       704      H  POLYMORPHISM"
      ]
     },
     "execution_count": 5,
     "metadata": {},
     "output_type": "execute_result"
    }
   ],
   "source": [
    "df = pandas.read_csv(\"./data/humsavar.txt\", sep=\"\\t\", header=0)\n",
    "df.head()"
   ]
  },
  {
   "cell_type": "code",
   "execution_count": 6,
   "metadata": {},
   "outputs": [
    {
     "name": "stderr",
     "output_type": "stream",
     "text": [
      "100%|██████████| 12845/12845 [2:00:37<00:00,  1.71it/s] \n"
     ]
    }
   ],
   "source": [
    "with open(\"./data/humsavar.fa\", \"w\") as handle:\n",
    "    for id in tqdm.tqdm(set(df['id'])):\n",
    "        \n",
    "        req = urllib.request.urlopen(\"https://www.uniprot.org/uniprot/{0}.fasta\".format(id))\n",
    "        \n",
    "        handle.write(req.read().decode('utf-8'))"
   ]
  },
  {
   "cell_type": "code",
   "execution_count": null,
   "metadata": {},
   "outputs": [],
   "source": []
  },
  {
   "cell_type": "code",
   "execution_count": null,
   "metadata": {},
   "outputs": [],
   "source": []
  },
  {
   "cell_type": "code",
   "execution_count": null,
   "metadata": {},
   "outputs": [],
   "source": []
  }
 ],
 "metadata": {
  "kernelspec": {
   "display_name": "Python 3",
   "language": "python",
   "name": "python3"
  },
  "language_info": {
   "codemirror_mode": {
    "name": "ipython",
    "version": 3
   },
   "file_extension": ".py",
   "mimetype": "text/x-python",
   "name": "python",
   "nbconvert_exporter": "python",
   "pygments_lexer": "ipython3",
   "version": "3.7.1"
  }
 },
 "nbformat": 4,
 "nbformat_minor": 4
}
